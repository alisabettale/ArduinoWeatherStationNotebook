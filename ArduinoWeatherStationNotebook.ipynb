{
 "cells": [
  {
   "cell_type": "markdown",
   "metadata": {},
   "source": [
    "# Arduino Weather Station Data Visualization\n",
    "\n",
    "Let's visualize all the data collected from our Arduino Weather Stations!"
   ]
  },
  {
   "cell_type": "markdown",
   "metadata": {},
   "source": [
    "First we will need to install plotly library. You should only have to do this once - in other words, let's say you open this notebook some days later, you will NOT have to install plotly again."
   ]
  },
  {
   "cell_type": "code",
   "execution_count": null,
   "metadata": {},
   "outputs": [],
   "source": [
    "pip install plotly"
   ]
  },
  {
   "cell_type": "markdown",
   "metadata": {},
   "source": [
    "Make sure to import your libraries:"
   ]
  },
  {
   "cell_type": "code",
   "execution_count": null,
   "metadata": {},
   "outputs": [],
   "source": [
    "import plotly.express as px\n",
    "import pandas as pd"
   ]
  },
  {
   "cell_type": "markdown",
   "metadata": {},
   "source": [
    "Now we read in the data to a pandas dataframe!"
   ]
  },
  {
   "cell_type": "code",
   "execution_count": null,
   "metadata": {},
   "outputs": [],
   "source": [
    "df = pd.read_json(\"http://haproxy.lbl.gov/arduino/temperature\")"
   ]
  },
  {
   "cell_type": "markdown",
   "metadata": {},
   "source": [
    "Our next bit of code will create two scatter plots - one for temperature data and another for humidity data. If you hover over the points, you will be able to see the specifics for each point including who's data it was (through \"deviceid\"). You can also Zoom and pan. To get back to the original graph simply press the home icon (Reset Axes).\n",
    "\n",
    "The times are in GMT (Greenwich Mean Time). To convert to PT, subtract by 7. For example, 18:00 GMT is 11:00 am PT.\n",
    "\n",
    "Keep in mind we collected *a lot* of data! It may take a while to plot all the data. If for some reason you can't get the graphs, go back to Kernel > Restart & Clear Output, then start again from importing the libraries."
   ]
  },
  {
   "cell_type": "code",
   "execution_count": null,
   "metadata": {},
   "outputs": [],
   "source": [
    "fig = px.scatter(df, x=\"timestamp\", y=\"temperature\", hover_name=\"deviceid\")\n",
    "fig.show()\n",
    "fig2 = px.scatter(df, x='timestamp', y=\"humidity\", hover_name=\"deviceid\")\n",
    "fig2.show()"
   ]
  },
  {
   "cell_type": "markdown",
   "metadata": {},
   "source": [
    "If you want to just look at one person's data, you can create a name filter."
   ]
  },
  {
   "cell_type": "code",
   "execution_count": null,
   "metadata": {},
   "outputs": [],
   "source": [
    "name_filter = df[\"deviceid\"] == \"abettale\" #change abettale to whomever\n",
    "\n",
    "fig = px.scatter(df[name_filter], x=\"timestamp\", y=\"temperature\", hover_name=\"deviceid\")\n",
    "fig.show()\n",
    "fig2 = px.scatter(df[name_filter], x='timestamp', y=\"humidity\", hover_name=\"deviceid\")\n",
    "fig2.show()"
   ]
  }
 ],
 "metadata": {
  "kernelspec": {
   "display_name": "Python 3 (ipykernel)",
   "language": "python",
   "name": "python3"
  },
  "language_info": {
   "codemirror_mode": {
    "name": "ipython",
    "version": 3
   },
   "file_extension": ".py",
   "mimetype": "text/x-python",
   "name": "python",
   "nbconvert_exporter": "python",
   "pygments_lexer": "ipython3",
   "version": "3.8.10"
  }
 },
 "nbformat": 4,
 "nbformat_minor": 4
}
